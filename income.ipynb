{
  "nbformat": 4,
  "nbformat_minor": 0,
  "metadata": {
    "colab": {
      "provenance": [],
      "collapsed_sections": [
        "-edW2m3-nPgk",
        "Bo-281panbYt"
      ],
      "authorship_tag": "ABX9TyOpsLov/sLgxam6HdgHuWXm",
      "include_colab_link": true
    },
    "kernelspec": {
      "name": "python3",
      "display_name": "Python 3"
    },
    "language_info": {
      "name": "python"
    },
    "accelerator": "GPU",
    "gpuClass": "premium"
  },
  "cells": [
    {
      "cell_type": "markdown",
      "metadata": {
        "id": "view-in-github",
        "colab_type": "text"
      },
      "source": [
        "<a href=\"https://colab.research.google.com/github/seleneclark/MachineLearning/blob/main/income.ipynb\" target=\"_parent\"><img src=\"https://colab.research.google.com/assets/colab-badge.svg\" alt=\"Open In Colab\"/></a>"
      ]
    },
    {
      "cell_type": "markdown",
      "source": [
        "# Income Prediction"
      ],
      "metadata": {
        "id": "bHq5cUWKmSTh"
      }
    },
    {
      "cell_type": "markdown",
      "source": [
        "## Imports"
      ],
      "metadata": {
        "id": "2F7RjSMbmYjk"
      }
    },
    {
      "cell_type": "code",
      "source": [
        "import pandas as pd\n",
        "from sklearn.model_selection import train_test_split\n",
        "import seaborn as sns\n",
        "import matplotlib.pyplot as plt\n",
        "from sklearn.preprocessing import MinMaxScaler, StandardScaler\n",
        "from sklearn.neighbors import KNeighborsClassifier\n",
        "from sklearn.metrics import confusion_matrix, classification_report, accuracy_score\n",
        "from imblearn.under_sampling import RandomUnderSampler\n",
        "from imblearn.over_sampling import RandomOverSampler\n",
        "from sklearn.tree import DecisionTreeClassifier, plot_tree\n",
        "from sklearn import tree\n",
        "from sklearn.tree import ExtraTreeClassifier\n",
        "from sklearn.metrics import mean_squared_error, r2_score, mean_absolute_error, mean_absolute_percentage_error, mean_squared_log_error"
      ],
      "metadata": {
        "id": "Q2RYxg29VKW8"
      },
      "execution_count": null,
      "outputs": []
    },
    {
      "cell_type": "code",
      "execution_count": null,
      "metadata": {
        "id": "RX_NvGcBUMx_"
      },
      "outputs": [],
      "source": [
        "income = pd.read_csv(\"https://archive.ics.uci.edu/ml/machine-learning-databases/adult/adult.data\")"
      ]
    },
    {
      "cell_type": "markdown",
      "source": [
        "## Prepare Data"
      ],
      "metadata": {
        "id": "EinV-glzmbgH"
      }
    },
    {
      "cell_type": "code",
      "source": [
        "income.rename(columns={'39': 'age', ' State-gov': 'workclass', ' 77516': 'final_weight', ' Bachelors': 'education', ' 13': 'education_level', ' Never-married': 'marital_status', ' Adm-clerical': 'occupation', ' Not-in-family': 'relationship', ' White': 'race', ' Male': 'sex', ' 2174': 'capital_gain', ' 0': 'capital-loss', ' 40': 'hours_per_week', ' United-States': 'native_country', ' <=50K': 'salary'}, inplace=True)"
      ],
      "metadata": {
        "id": "5OfxG4yrclhV"
      },
      "execution_count": null,
      "outputs": []
    },
    {
      "cell_type": "code",
      "source": [
        "income.info()"
      ],
      "metadata": {
        "colab": {
          "base_uri": "https://localhost:8080/"
        },
        "id": "RgAg-0wPex8U",
        "outputId": "61bf7e09-41f9-48cd-d83b-8a23cc43e437"
      },
      "execution_count": null,
      "outputs": [
        {
          "output_type": "stream",
          "name": "stdout",
          "text": [
            "<class 'pandas.core.frame.DataFrame'>\n",
            "RangeIndex: 32560 entries, 0 to 32559\n",
            "Data columns (total 15 columns):\n",
            " #   Column           Non-Null Count  Dtype \n",
            "---  ------           --------------  ----- \n",
            " 0   age              32560 non-null  int64 \n",
            " 1   workclass        32560 non-null  object\n",
            " 2   final_weight     32560 non-null  int64 \n",
            " 3   education        32560 non-null  object\n",
            " 4   education_level  32560 non-null  int64 \n",
            " 5   marital_status   32560 non-null  object\n",
            " 6   occupation       32560 non-null  object\n",
            " 7   relationship     32560 non-null  object\n",
            " 8   race             32560 non-null  object\n",
            " 9   sex              32560 non-null  object\n",
            " 10  capital_gain     32560 non-null  int64 \n",
            " 11  capital-loss     32560 non-null  int64 \n",
            " 12  hours_per_week   32560 non-null  int64 \n",
            " 13  native_country   32560 non-null  object\n",
            " 14  salary           32560 non-null  object\n",
            "dtypes: int64(6), object(9)\n",
            "memory usage: 3.7+ MB\n"
          ]
        }
      ]
    },
    {
      "cell_type": "code",
      "source": [
        "income.isnull().sum()"
      ],
      "metadata": {
        "colab": {
          "base_uri": "https://localhost:8080/"
        },
        "id": "9c6viGqSYdck",
        "outputId": "578591c6-704c-4ee0-9899-97971aec9d54"
      },
      "execution_count": null,
      "outputs": [
        {
          "output_type": "execute_result",
          "data": {
            "text/plain": [
              "age                0\n",
              "workclass          0\n",
              "final_weight       0\n",
              "education          0\n",
              "education_level    0\n",
              "marital_status     0\n",
              "occupation         0\n",
              "relationship       0\n",
              "race               0\n",
              "sex                0\n",
              "capital_gain       0\n",
              "capital-loss       0\n",
              "hours_per_week     0\n",
              "native_country     0\n",
              "salary             0\n",
              "dtype: int64"
            ]
          },
          "metadata": {},
          "execution_count": 5
        }
      ]
    },
    {
      "cell_type": "code",
      "source": [
        "print(income['education'].unique())"
      ],
      "metadata": {
        "colab": {
          "base_uri": "https://localhost:8080/"
        },
        "id": "qmmmd7TLb5N3",
        "outputId": "9eeace08-1086-4e2a-e6d3-4874832369fe"
      },
      "execution_count": null,
      "outputs": [
        {
          "output_type": "stream",
          "name": "stdout",
          "text": [
            "[' Bachelors' ' HS-grad' ' 11th' ' Masters' ' 9th' ' Some-college'\n",
            " ' Assoc-acdm' ' Assoc-voc' ' 7th-8th' ' Doctorate' ' Prof-school'\n",
            " ' 5th-6th' ' 10th' ' 1st-4th' ' Preschool' ' 12th']\n"
          ]
        }
      ]
    },
    {
      "cell_type": "markdown",
      "source": [
        "## Graphs"
      ],
      "metadata": {
        "id": "poUw_l20m04H"
      }
    },
    {
      "cell_type": "code",
      "source": [
        "sns.displot(data=income, x=\"age\", col=\"salary\")"
      ],
      "metadata": {
        "colab": {
          "base_uri": "https://localhost:8080/",
          "height": 387
        },
        "id": "UsWX1L4vtT0Q",
        "outputId": "dc96dc7f-0cb4-44bb-ec9a-cd118687a482"
      },
      "execution_count": null,
      "outputs": [
        {
          "output_type": "execute_result",
          "data": {
            "text/plain": [
              "<seaborn.axisgrid.FacetGrid at 0x7f0bdc598d60>"
            ]
          },
          "metadata": {},
          "execution_count": 7
        },
        {
          "output_type": "display_data",
          "data": {
            "text/plain": [
              "<Figure size 720x360 with 2 Axes>"
            ],
            "image/png": "[encoded data removed]"
          },
          "metadata": {
            "needs_background": "light"
          }
        }
      ]
    },
    {
      "cell_type": "code",
      "source": [
        "income.loc[income['age'].between(0, 25, 'both'), 'age_bin'] = 'entry_level'\n",
        "income.loc[income['age'].between(25, 35, 'right'), 'age_bin'] = 'early_career'\n",
        "income.loc[income['age'].between(35, 50, 'right'), 'age_bin'] = 'mid_career'\n",
        "income.loc[income['age'].between(50, 65, 'right'), 'age_bin'] = 'late_career'\n",
        "income.loc[income['age'].between(65, 90, 'right'), 'age_bin'] = 'retirement'"
      ],
      "metadata": {
        "id": "lHDX5mj-UT-k"
      },
      "execution_count": null,
      "outputs": []
    },
    {
      "cell_type": "code",
      "source": [
        "print(income['education'].unique())"
      ],
      "metadata": {
        "colab": {
          "base_uri": "https://localhost:8080/"
        },
        "id": "Rg9fTh2J41w5",
        "outputId": "33bea0f6-7765-4d25-bbd5-c19b1e9b0eed"
      },
      "execution_count": null,
      "outputs": [
        {
          "output_type": "stream",
          "name": "stdout",
          "text": [
            "[' Bachelors' ' HS-grad' ' 11th' ' Masters' ' 9th' ' Some-college'\n",
            " ' Assoc-acdm' ' Assoc-voc' ' 7th-8th' ' Doctorate' ' Prof-school'\n",
            " ' 5th-6th' ' 10th' ' 1st-4th' ' Preschool' ' 12th']\n"
          ]
        }
      ]
    },
    {
      "cell_type": "code",
      "source": [
        "income.loc[income['education'] == ' Preschool', 'education'] = 'elementary'\n",
        "income.loc[income['education'] == ' 1st-4th', 'education'] = 'elementary'\n",
        "income.loc[income['education'] == ' 5th-6th', 'education'] = 'middle_school'\n",
        "income.loc[income['education'] == ' 7th-8th', 'education'] = 'middle_school'\n",
        "income.loc[income['education'] == ' 9th', 'education'] = 'high_school'\n",
        "income.loc[income['education'] == ' 10th', 'education'] = 'high_school'\n",
        "income.loc[income['education'] == ' 11th', 'education'] = 'high_school'\n",
        "income.loc[income['education'] == ' 12th', 'education'] = 'high_school'\n",
        "print(income['education'].unique())"
      ],
      "metadata": {
        "colab": {
          "base_uri": "https://localhost:8080/"
        },
        "id": "i6Dv6czw3LRD",
        "outputId": "e617a2d9-b17f-45fb-a619-e369f1f81bdd"
      },
      "execution_count": null,
      "outputs": [
        {
          "output_type": "stream",
          "name": "stdout",
          "text": [
            "[' Bachelors' ' HS-grad' 'high_school' ' Masters' ' Some-college'\n",
            " ' Assoc-acdm' ' Assoc-voc' 'middle_school' ' Doctorate' ' Prof-school'\n",
            " 'elementary']\n"
          ]
        }
      ]
    },
    {
      "cell_type": "code",
      "source": [],
      "metadata": {
        "id": "53Jb9euMkk-_"
      },
      "execution_count": null,
      "outputs": []
    },
    {
      "cell_type": "code",
      "source": [
        "income.head()"
      ],
      "metadata": {
        "colab": {
          "base_uri": "https://localhost:8080/",
          "height": 374
        },
        "id": "E4WGrvP53vVn",
        "outputId": "f6685d5e-e467-4e03-dced-f8c20f116b26"
      },
      "execution_count": null,
      "outputs": [
        {
          "output_type": "execute_result",
          "data": {
            "text/plain": [
              "   age          workclass  final_weight    education  education_level  \\\n",
              "0   50   Self-emp-not-inc         83311    Bachelors               13   \n",
              "1   38            Private        215646      HS-grad                9   \n",
              "2   53            Private        234721  high_school                7   \n",
              "3   28            Private        338409    Bachelors               13   \n",
              "4   37            Private        284582      Masters               14   \n",
              "\n",
              "        marital_status          occupation    relationship    race      sex  \\\n",
              "0   Married-civ-spouse     Exec-managerial         Husband   White     Male   \n",
              "1             Divorced   Handlers-cleaners   Not-in-family   White     Male   \n",
              "2   Married-civ-spouse   Handlers-cleaners         Husband   Black     Male   \n",
              "3   Married-civ-spouse      Prof-specialty            Wife   Black   Female   \n",
              "4   Married-civ-spouse     Exec-managerial            Wife   White   Female   \n",
              "\n",
              "   capital_gain  capital-loss  hours_per_week  native_country  salary  \\\n",
              "0             0             0              13   United-States   <=50K   \n",
              "1             0             0              40   United-States   <=50K   \n",
              "2             0             0              40   United-States   <=50K   \n",
              "3             0             0              40            Cuba   <=50K   \n",
              "4             0             0              40   United-States   <=50K   \n",
              "\n",
              "        age_bin  \n",
              "0    mid_career  \n",
              "1    mid_career  \n",
              "2   late_career  \n",
              "3  early_career  \n",
              "4    mid_career  "
            ],
            "text/html": [
              "\n",
              "  <div id=\"df-a03f3137-3d00-453c-bd62-3356548f0133\">\n",
              "    <div class=\"colab-df-container\">\n",
              "      <div>\n",
              "<style scoped>\n",
              "    .dataframe tbody tr th:only-of-type {\n",
              "        vertical-align: middle;\n",
              "    }\n",
              "\n",
              "    .dataframe tbody tr th {\n",
              "        vertical-align: top;\n",
              "    }\n",
              "\n",
              "    .dataframe thead th {\n",
              "        text-align: right;\n",
              "    }\n",
              "</style>\n",
              "<table border=\"1\" class=\"dataframe\">\n",
              "  <thead>\n",
              "    <tr style=\"text-align: right;\">\n",
              "      <th></th>\n",
              "      <th>age</th>\n",
              "      <th>workclass</th>\n",
              "      <th>final_weight</th>\n",
              "      <th>education</th>\n",
              "      <th>education_level</th>\n",
              "      <th>marital_status</th>\n",
              "      <th>occupation</th>\n",
              "      <th>relationship</th>\n",
              "      <th>race</th>\n",
              "      <th>sex</th>\n",
              "      <th>capital_gain</th>\n",
              "      <th>capital-loss</th>\n",
              "      <th>hours_per_week</th>\n",
              "      <th>native_country</th>\n",
              "      <th>salary</th>\n",
              "      <th>age_bin</th>\n",
              "    </tr>\n",
              "  </thead>\n",
              "  <tbody>\n",
              "    <tr>\n",
              "      <th>0</th>\n",
              "      <td>50</td>\n",
              "      <td>Self-emp-not-inc</td>\n",
              "      <td>83311</td>\n",
              "      <td>Bachelors</td>\n",
              "      <td>13</td>\n",
              "      <td>Married-civ-spouse</td>\n",
              "      <td>Exec-managerial</td>\n",
              "      <td>Husband</td>\n",
              "      <td>White</td>\n",
              "      <td>Male</td>\n",
              "      <td>0</td>\n",
              "      <td>0</td>\n",
              "      <td>13</td>\n",
              "      <td>United-States</td>\n",
              "      <td>&lt;=50K</td>\n",
              "      <td>mid_career</td>\n",
              "    </tr>\n",
              "    <tr>\n",
              "      <th>1</th>\n",
              "      <td>38</td>\n",
              "      <td>Private</td>\n",
              "      <td>215646</td>\n",
              "      <td>HS-grad</td>\n",
              "      <td>9</td>\n",
              "      <td>Divorced</td>\n",
              "      <td>Handlers-cleaners</td>\n",
              "      <td>Not-in-family</td>\n",
              "      <td>White</td>\n",
              "      <td>Male</td>\n",
              "      <td>0</td>\n",
              "      <td>0</td>\n",
              "      <td>40</td>\n",
              "      <td>United-States</td>\n",
              "      <td>&lt;=50K</td>\n",
              "      <td>mid_career</td>\n",
              "    </tr>\n",
              "    <tr>\n",
              "      <th>2</th>\n",
              "      <td>53</td>\n",
              "      <td>Private</td>\n",
              "      <td>234721</td>\n",
              "      <td>high_school</td>\n",
              "      <td>7</td>\n",
              "      <td>Married-civ-spouse</td>\n",
              "      <td>Handlers-cleaners</td>\n",
              "      <td>Husband</td>\n",
              "      <td>Black</td>\n",
              "      <td>Male</td>\n",
              "      <td>0</td>\n",
              "      <td>0</td>\n",
              "      <td>40</td>\n",
              "      <td>United-States</td>\n",
              "      <td>&lt;=50K</td>\n",
              "      <td>late_career</td>\n",
              "    </tr>\n",
              "    <tr>\n",
              "      <th>3</th>\n",
              "      <td>28</td>\n",
              "      <td>Private</td>\n",
              "      <td>338409</td>\n",
              "      <td>Bachelors</td>\n",
              "      <td>13</td>\n",
              "      <td>Married-civ-spouse</td>\n",
              "      <td>Prof-specialty</td>\n",
              "      <td>Wife</td>\n",
              "      <td>Black</td>\n",
              "      <td>Female</td>\n",
              "      <td>0</td>\n",
              "      <td>0</td>\n",
              "      <td>40</td>\n",
              "      <td>Cuba</td>\n",
              "      <td>&lt;=50K</td>\n",
              "      <td>early_career</td>\n",
              "    </tr>\n",
              "    <tr>\n",
              "      <th>4</th>\n",
              "      <td>37</td>\n",
              "      <td>Private</td>\n",
              "      <td>284582</td>\n",
              "      <td>Masters</td>\n",
              "      <td>14</td>\n",
              "      <td>Married-civ-spouse</td>\n",
              "      <td>Exec-managerial</td>\n",
              "      <td>Wife</td>\n",
              "      <td>White</td>\n",
              "      <td>Female</td>\n",
              "      <td>0</td>\n",
              "      <td>0</td>\n",
              "      <td>40</td>\n",
              "      <td>United-States</td>\n",
              "      <td>&lt;=50K</td>\n",
              "      <td>mid_career</td>\n",
              "    </tr>\n",
              "  </tbody>\n",
              "</table>\n",
              "</div>\n",
              "      <button class=\"colab-df-convert\" onclick=\"convertToInteractive('df-a03f3137-3d00-453c-bd62-3356548f0133')\"\n",
              "              title=\"Convert this dataframe to an interactive table.\"\n",
              "              style=\"display:none;\">\n",
              "        \n",
              "  <svg xmlns=\"http://www.w3.org/2000/svg\" height=\"24px\"viewBox=\"0 0 24 24\"\n",
              "       width=\"24px\">\n",
              "    <path d=\"M0 0h24v24H0V0z\" fill=\"none\"/>\n",
              "    <path d=\"M18.56 5.44l.94 2.06.94-2.06 2.06-.94-2.06-.94-.94-2.06-.94 2.06-2.06.94zm-11 1L8.5 8.5l.94-2.06 2.06-.94-2.06-.94L8.5 2.5l-.94 2.06-2.06.94zm10 10l.94 2.06.94-2.06 2.06-.94-2.06-.94-.94-2.06-.94 2.06-2.06.94z\"/><path d=\"M17.41 7.96l-1.37-1.37c-.4-.4-.92-.59-1.43-.59-.52 0-1.04.2-1.43.59L10.3 9.45l-7.72 7.72c-.78.78-.78 2.05 0 2.83L4 21.41c.39.39.9.59 1.41.59.51 0 1.02-.2 1.41-.59l7.78-7.78 2.81-2.81c.8-.78.8-2.07 0-2.86zM5.41 20L4 18.59l7.72-7.72 1.47 1.35L5.41 20z\"/>\n",
              "  </svg>\n",
              "      </button>\n",
              "      \n",
              "  <style>\n",
              "    .colab-df-container {\n",
              "      display:flex;\n",
              "      flex-wrap:wrap;\n",
              "      gap: 12px;\n",
              "    }\n",
              "\n",
              "    .colab-df-convert {\n",
              "      background-color: #E8F0FE;\n",
              "      border: none;\n",
              "      border-radius: 50%;\n",
              "      cursor: pointer;\n",
              "      display: none;\n",
              "      fill: #1967D2;\n",
              "      height: 32px;\n",
              "      padding: 0 0 0 0;\n",
              "      width: 32px;\n",
              "    }\n",
              "\n",
              "    .colab-df-convert:hover {\n",
              "      background-color: #E2EBFA;\n",
              "      box-shadow: 0px 1px 2px rgba(60, 64, 67, 0.3), 0px 1px 3px 1px rgba(60, 64, 67, 0.15);\n",
              "      fill: #174EA6;\n",
              "    }\n",
              "\n",
              "    [theme=dark] .colab-df-convert {\n",
              "      background-color: #3B4455;\n",
              "      fill: #D2E3FC;\n",
              "    }\n",
              "\n",
              "    [theme=dark] .colab-df-convert:hover {\n",
              "      background-color: #434B5C;\n",
              "      box-shadow: 0px 1px 3px 1px rgba(0, 0, 0, 0.15);\n",
              "      filter: drop-shadow(0px 1px 2px rgba(0, 0, 0, 0.3));\n",
              "      fill: #FFFFFF;\n",
              "    }\n",
              "  </style>\n",
              "\n",
              "      <script>\n",
              "        const buttonEl =\n",
              "          document.querySelector('#df-a03f3137-3d00-453c-bd62-3356548f0133 button.colab-df-convert');\n",
              "        buttonEl.style.display =\n",
              "          google.colab.kernel.accessAllowed ? 'block' : 'none';\n",
              "\n",
              "        async function convertToInteractive(key) {\n",
              "          const element = document.querySelector('#df-a03f3137-3d00-453c-bd62-3356548f0133');\n",
              "          const dataTable =\n",
              "            await google.colab.kernel.invokeFunction('convertToInteractive',\n",
              "                                                     [key], {});\n",
              "          if (!dataTable) return;\n",
              "\n",
              "          const docLinkHtml = 'Like what you see? Visit the ' +\n",
              "            '<a target=\"_blank\" href=https://colab.research.google.com/notebooks/data_table.ipynb>data table notebook</a>'\n",
              "            + ' to learn more about interactive tables.';\n",
              "          element.innerHTML = '';\n",
              "          dataTable['output_type'] = 'display_data';\n",
              "          await google.colab.output.renderOutput(dataTable, element);\n",
              "          const docLink = document.createElement('div');\n",
              "          docLink.innerHTML = docLinkHtml;\n",
              "          element.appendChild(docLink);\n",
              "        }\n",
              "      </script>\n",
              "    </div>\n",
              "  </div>\n",
              "  "
            ]
          },
          "metadata": {},
          "execution_count": 11
        }
      ]
    },
    {
      "cell_type": "code",
      "source": [
        "ax = sns.heatmap(income.corr(), annot=True)"
      ],
      "metadata": {
        "colab": {
          "base_uri": "https://localhost:8080/",
          "height": 340
        },
        "id": "MtTu2MHqrIbY",
        "outputId": "193f7d9b-e32f-4a61-fdf5-6b041149f8f0"
      },
      "execution_count": null,
      "outputs": [
        {
          "output_type": "display_data",
          "data": {
            "text/plain": [
              "<Figure size 432x288 with 2 Axes>"
            ],
            "image/png": "[encoded data removed]"
          },
          "metadata": {
            "needs_background": "light"
          }
        }
      ]
    },
    {
      "cell_type": "code",
      "source": [
        "income = income.drop('age', axis=1)\n",
        "income = income.drop('education_level', axis=1)\n",
        "income.head()"
      ],
      "metadata": {
        "colab": {
          "base_uri": "https://localhost:8080/",
          "height": 374
        },
        "id": "Uc-AYblIh8Jr",
        "outputId": "68c20bab-873d-487c-800f-23d4dba62754"
      },
      "execution_count": null,
      "outputs": [
        {
          "output_type": "execute_result",
          "data": {
            "text/plain": [
              "           workclass  final_weight    education       marital_status  \\\n",
              "0   Self-emp-not-inc         83311    Bachelors   Married-civ-spouse   \n",
              "1            Private        215646      HS-grad             Divorced   \n",
              "2            Private        234721  high_school   Married-civ-spouse   \n",
              "3            Private        338409    Bachelors   Married-civ-spouse   \n",
              "4            Private        284582      Masters   Married-civ-spouse   \n",
              "\n",
              "           occupation    relationship    race      sex  capital_gain  \\\n",
              "0     Exec-managerial         Husband   White     Male             0   \n",
              "1   Handlers-cleaners   Not-in-family   White     Male             0   \n",
              "2   Handlers-cleaners         Husband   Black     Male             0   \n",
              "3      Prof-specialty            Wife   Black   Female             0   \n",
              "4     Exec-managerial            Wife   White   Female             0   \n",
              "\n",
              "   capital-loss  hours_per_week  native_country  salary       age_bin  \n",
              "0             0              13   United-States   <=50K    mid_career  \n",
              "1             0              40   United-States   <=50K    mid_career  \n",
              "2             0              40   United-States   <=50K   late_career  \n",
              "3             0              40            Cuba   <=50K  early_career  \n",
              "4             0              40   United-States   <=50K    mid_career  "
            ],
            "text/html": [
              "\n",
              "  <div id=\"df-3ec53dbe-752c-46db-9d69-8c514ecd6560\">\n",
              "    <div class=\"colab-df-container\">\n",
              "      <div>\n",
              "<style scoped>\n",
              "    .dataframe tbody tr th:only-of-type {\n",
              "        vertical-align: middle;\n",
              "    }\n",
              "\n",
              "    .dataframe tbody tr th {\n",
              "        vertical-align: top;\n",
              "    }\n",
              "\n",
              "    .dataframe thead th {\n",
              "        text-align: right;\n",
              "    }\n",
              "</style>\n",
              "<table border=\"1\" class=\"dataframe\">\n",
              "  <thead>\n",
              "    <tr style=\"text-align: right;\">\n",
              "      <th></th>\n",
              "      <th>workclass</th>\n",
              "      <th>final_weight</th>\n",
              "      <th>education</th>\n",
              "      <th>marital_status</th>\n",
              "      <th>occupation</th>\n",
              "      <th>relationship</th>\n",
              "      <th>race</th>\n",
              "      <th>sex</th>\n",
              "      <th>capital_gain</th>\n",
              "      <th>capital-loss</th>\n",
              "      <th>hours_per_week</th>\n",
              "      <th>native_country</th>\n",
              "      <th>salary</th>\n",
              "      <th>age_bin</th>\n",
              "    </tr>\n",
              "  </thead>\n",
              "  <tbody>\n",
              "    <tr>\n",
              "      <th>0</th>\n",
              "      <td>Self-emp-not-inc</td>\n",
              "      <td>83311</td>\n",
              "      <td>Bachelors</td>\n",
              "      <td>Married-civ-spouse</td>\n",
              "      <td>Exec-managerial</td>\n",
              "      <td>Husband</td>\n",
              "      <td>White</td>\n",
              "      <td>Male</td>\n",
              "      <td>0</td>\n",
              "      <td>0</td>\n",
              "      <td>13</td>\n",
              "      <td>United-States</td>\n",
              "      <td>&lt;=50K</td>\n",
              "      <td>mid_career</td>\n",
              "    </tr>\n",
              "    <tr>\n",
              "      <th>1</th>\n",
              "      <td>Private</td>\n",
              "      <td>215646</td>\n",
              "      <td>HS-grad</td>\n",
              "      <td>Divorced</td>\n",
              "      <td>Handlers-cleaners</td>\n",
              "      <td>Not-in-family</td>\n",
              "      <td>White</td>\n",
              "      <td>Male</td>\n",
              "      <td>0</td>\n",
              "      <td>0</td>\n",
              "      <td>40</td>\n",
              "      <td>United-States</td>\n",
              "      <td>&lt;=50K</td>\n",
              "      <td>mid_career</td>\n",
              "    </tr>\n",
              "    <tr>\n",
              "      <th>2</th>\n",
              "      <td>Private</td>\n",
              "      <td>234721</td>\n",
              "      <td>high_school</td>\n",
              "      <td>Married-civ-spouse</td>\n",
              "      <td>Handlers-cleaners</td>\n",
              "      <td>Husband</td>\n",
              "      <td>Black</td>\n",
              "      <td>Male</td>\n",
              "      <td>0</td>\n",
              "      <td>0</td>\n",
              "      <td>40</td>\n",
              "      <td>United-States</td>\n",
              "      <td>&lt;=50K</td>\n",
              "      <td>late_career</td>\n",
              "    </tr>\n",
              "    <tr>\n",
              "      <th>3</th>\n",
              "      <td>Private</td>\n",
              "      <td>338409</td>\n",
              "      <td>Bachelors</td>\n",
              "      <td>Married-civ-spouse</td>\n",
              "      <td>Prof-specialty</td>\n",
              "      <td>Wife</td>\n",
              "      <td>Black</td>\n",
              "      <td>Female</td>\n",
              "      <td>0</td>\n",
              "      <td>0</td>\n",
              "      <td>40</td>\n",
              "      <td>Cuba</td>\n",
              "      <td>&lt;=50K</td>\n",
              "      <td>early_career</td>\n",
              "    </tr>\n",
              "    <tr>\n",
              "      <th>4</th>\n",
              "      <td>Private</td>\n",
              "      <td>284582</td>\n",
              "      <td>Masters</td>\n",
              "      <td>Married-civ-spouse</td>\n",
              "      <td>Exec-managerial</td>\n",
              "      <td>Wife</td>\n",
              "      <td>White</td>\n",
              "      <td>Female</td>\n",
              "      <td>0</td>\n",
              "      <td>0</td>\n",
              "      <td>40</td>\n",
              "      <td>United-States</td>\n",
              "      <td>&lt;=50K</td>\n",
              "      <td>mid_career</td>\n",
              "    </tr>\n",
              "  </tbody>\n",
              "</table>\n",
              "</div>\n",
              "      <button class=\"colab-df-convert\" onclick=\"convertToInteractive('df-3ec53dbe-752c-46db-9d69-8c514ecd6560')\"\n",
              "              title=\"Convert this dataframe to an interactive table.\"\n",
              "              style=\"display:none;\">\n",
              "        \n",
              "  <svg xmlns=\"http://www.w3.org/2000/svg\" height=\"24px\"viewBox=\"0 0 24 24\"\n",
              "       width=\"24px\">\n",
              "    <path d=\"M0 0h24v24H0V0z\" fill=\"none\"/>\n",
              "    <path d=\"M18.56 5.44l.94 2.06.94-2.06 2.06-.94-2.06-.94-.94-2.06-.94 2.06-2.06.94zm-11 1L8.5 8.5l.94-2.06 2.06-.94-2.06-.94L8.5 2.5l-.94 2.06-2.06.94zm10 10l.94 2.06.94-2.06 2.06-.94-2.06-.94-.94-2.06-.94 2.06-2.06.94z\"/><path d=\"M17.41 7.96l-1.37-1.37c-.4-.4-.92-.59-1.43-.59-.52 0-1.04.2-1.43.59L10.3 9.45l-7.72 7.72c-.78.78-.78 2.05 0 2.83L4 21.41c.39.39.9.59 1.41.59.51 0 1.02-.2 1.41-.59l7.78-7.78 2.81-2.81c.8-.78.8-2.07 0-2.86zM5.41 20L4 18.59l7.72-7.72 1.47 1.35L5.41 20z\"/>\n",
              "  </svg>\n",
              "      </button>\n",
              "      \n",
              "  <style>\n",
              "    .colab-df-container {\n",
              "      display:flex;\n",
              "      flex-wrap:wrap;\n",
              "      gap: 12px;\n",
              "    }\n",
              "\n",
              "    .colab-df-convert {\n",
              "      background-color: #E8F0FE;\n",
              "      border: none;\n",
              "      border-radius: 50%;\n",
              "      cursor: pointer;\n",
              "      display: none;\n",
              "      fill: #1967D2;\n",
              "      height: 32px;\n",
              "      padding: 0 0 0 0;\n",
              "      width: 32px;\n",
              "    }\n",
              "\n",
              "    .colab-df-convert:hover {\n",
              "      background-color: #E2EBFA;\n",
              "      box-shadow: 0px 1px 2px rgba(60, 64, 67, 0.3), 0px 1px 3px 1px rgba(60, 64, 67, 0.15);\n",
              "      fill: #174EA6;\n",
              "    }\n",
              "\n",
              "    [theme=dark] .colab-df-convert {\n",
              "      background-color: #3B4455;\n",
              "      fill: #D2E3FC;\n",
              "    }\n",
              "\n",
              "    [theme=dark] .colab-df-convert:hover {\n",
              "      background-color: #434B5C;\n",
              "      box-shadow: 0px 1px 3px 1px rgba(0, 0, 0, 0.15);\n",
              "      filter: drop-shadow(0px 1px 2px rgba(0, 0, 0, 0.3));\n",
              "      fill: #FFFFFF;\n",
              "    }\n",
              "  </style>\n",
              "\n",
              "      <script>\n",
              "        const buttonEl =\n",
              "          document.querySelector('#df-3ec53dbe-752c-46db-9d69-8c514ecd6560 button.colab-df-convert');\n",
              "        buttonEl.style.display =\n",
              "          google.colab.kernel.accessAllowed ? 'block' : 'none';\n",
              "\n",
              "        async function convertToInteractive(key) {\n",
              "          const element = document.querySelector('#df-3ec53dbe-752c-46db-9d69-8c514ecd6560');\n",
              "          const dataTable =\n",
              "            await google.colab.kernel.invokeFunction('convertToInteractive',\n",
              "                                                     [key], {});\n",
              "          if (!dataTable) return;\n",
              "\n",
              "          const docLinkHtml = 'Like what you see? Visit the ' +\n",
              "            '<a target=\"_blank\" href=https://colab.research.google.com/notebooks/data_table.ipynb>data table notebook</a>'\n",
              "            + ' to learn more about interactive tables.';\n",
              "          element.innerHTML = '';\n",
              "          dataTable['output_type'] = 'display_data';\n",
              "          await google.colab.output.renderOutput(dataTable, element);\n",
              "          const docLink = document.createElement('div');\n",
              "          docLink.innerHTML = docLinkHtml;\n",
              "          element.appendChild(docLink);\n",
              "        }\n",
              "      </script>\n",
              "    </div>\n",
              "  </div>\n",
              "  "
            ]
          },
          "metadata": {},
          "execution_count": 13
        }
      ]
    },
    {
      "cell_type": "code",
      "source": [
        "sns.displot(data=income, x=\"age_bin\", col=\"salary\")"
      ],
      "metadata": {
        "colab": {
          "base_uri": "https://localhost:8080/",
          "height": 387
        },
        "id": "uKL6uzfLWan-",
        "outputId": "413028ef-00a0-4378-8185-d7ea98808d30"
      },
      "execution_count": null,
      "outputs": [
        {
          "output_type": "execute_result",
          "data": {
            "text/plain": [
              "<seaborn.axisgrid.FacetGrid at 0x7f0bd452af10>"
            ]
          },
          "metadata": {},
          "execution_count": 14
        },
        {
          "output_type": "display_data",
          "data": {
            "text/plain": [
              "<Figure size 720x360 with 2 Axes>"
            ],
            "image/png": "[encoded data removed]"
          },
          "metadata": {
            "needs_background": "light"
          }
        }
      ]
    },
    {
      "cell_type": "markdown",
      "source": [],
      "metadata": {
        "id": "sUtS3pyRtTjB"
      }
    },
    {
      "cell_type": "code",
      "source": [
        "chart = sns.displot(data=income, x=\"workclass\", hue=\"salary\")\n",
        "plt.xticks(rotation=90)\n"
      ],
      "metadata": {
        "colab": {
          "base_uri": "https://localhost:8080/",
          "height": 463
        },
        "id": "lWc0Aj_Ttgzj",
        "outputId": "69bf0e83-b059-4359-de87-302108942054"
      },
      "execution_count": null,
      "outputs": [
        {
          "output_type": "execute_result",
          "data": {
            "text/plain": [
              "([0, 1, 2, 3, 4, 5, 6, 7, 8], <a list of 9 Text major ticklabel objects>)"
            ]
          },
          "metadata": {},
          "execution_count": 15
        },
        {
          "output_type": "display_data",
          "data": {
            "text/plain": [
              "<Figure size 434.875x360 with 1 Axes>"
            ],
            "image/png": "[encoded data removed]"
          },
          "metadata": {
            "needs_background": "light"
          }
        }
      ]
    },
    {
      "cell_type": "code",
      "source": [
        "chart = sns.displot(data=income, x=\"education\", hue=\"salary\")\n",
        "plt.xticks(rotation=90)\n"
      ],
      "metadata": {
        "colab": {
          "base_uri": "https://localhost:8080/",
          "height": 467
        },
        "id": "eewR6TUUaVv8",
        "outputId": "8757de9e-274a-44ad-eca0-0c183f5cb07d"
      },
      "execution_count": null,
      "outputs": [
        {
          "output_type": "execute_result",
          "data": {
            "text/plain": [
              "([0, 1, 2, 3, 4, 5, 6, 7, 8, 9, 10],\n",
              " <a list of 11 Text major ticklabel objects>)"
            ]
          },
          "metadata": {},
          "execution_count": 16
        },
        {
          "output_type": "display_data",
          "data": {
            "text/plain": [
              "<Figure size 434.875x360 with 1 Axes>"
            ],
            "image/png": "[encoded data removed]"
          },
          "metadata": {
            "needs_background": "light"
          }
        }
      ]
    },
    {
      "cell_type": "code",
      "source": [
        "chart = sns.displot(data=income, x=\"occupation\", hue=\"salary\")\n",
        "plt.xticks(rotation=90)\n"
      ],
      "metadata": {
        "colab": {
          "base_uri": "https://localhost:8080/",
          "height": 491
        },
        "id": "zpRIv0aD1W07",
        "outputId": "8ef3d0fd-49d5-4231-f187-292a90c52aa1"
      },
      "execution_count": null,
      "outputs": [
        {
          "output_type": "execute_result",
          "data": {
            "text/plain": [
              "([0, 1, 2, 3, 4, 5, 6, 7, 8, 9, 10, 11, 12, 13, 14],\n",
              " <a list of 15 Text major ticklabel objects>)"
            ]
          },
          "metadata": {},
          "execution_count": 17
        },
        {
          "output_type": "display_data",
          "data": {
            "text/plain": [
              "<Figure size 434.875x360 with 1 Axes>"
            ],
            "image/png": "[encoded data removed]"
          },
          "metadata": {
            "needs_background": "light"
          }
        }
      ]
    },
    {
      "cell_type": "code",
      "source": [
        "chart = sns.displot(data=income, x=\"hours_per_week\", col=\"salary\")\n",
        "plt.xticks(rotation=90)"
      ],
      "metadata": {
        "colab": {
          "base_uri": "https://localhost:8080/",
          "height": 415
        },
        "id": "JPNt5Mhc2aJT",
        "outputId": "783bde7d-646f-44e8-b061-bc863185ad1f"
      },
      "execution_count": null,
      "outputs": [
        {
          "output_type": "execute_result",
          "data": {
            "text/plain": [
              "(array([-20.,   0.,  20.,  40.,  60.,  80., 100., 120.]),\n",
              " <a list of 8 Text major ticklabel objects>)"
            ]
          },
          "metadata": {},
          "execution_count": 18
        },
        {
          "output_type": "display_data",
          "data": {
            "text/plain": [
              "<Figure size 720x360 with 2 Axes>"
            ],
            "image/png": "[encoded data removed]"
          },
          "metadata": {
            "needs_background": "light"
          }
        }
      ]
    },
    {
      "cell_type": "code",
      "source": [
        "sns.displot(data=income, x=\"education\", y=\"occupation\")\n",
        "plt.xticks(rotation=90)"
      ],
      "metadata": {
        "colab": {
          "base_uri": "https://localhost:8080/",
          "height": 467
        },
        "id": "7W3cII2N21JC",
        "outputId": "25487d0b-b785-45a9-d81f-d276258f4769"
      },
      "execution_count": null,
      "outputs": [
        {
          "output_type": "execute_result",
          "data": {
            "text/plain": [
              "([0, 1, 2, 3, 4, 5, 6, 7, 8, 9, 10],\n",
              " <a list of 11 Text major ticklabel objects>)"
            ]
          },
          "metadata": {},
          "execution_count": 19
        },
        {
          "output_type": "display_data",
          "data": {
            "text/plain": [
              "<Figure size 360x360 with 1 Axes>"
            ],
            "image/png": "[encoded data removed]"
          },
          "metadata": {
            "needs_background": "light"
          }
        }
      ]
    },
    {
      "cell_type": "markdown",
      "source": [
        "# Model"
      ],
      "metadata": {
        "id": "e4orlTbtnOOn"
      }
    },
    {
      "cell_type": "markdown",
      "source": [
        "##Prep for Model"
      ],
      "metadata": {
        "id": "-edW2m3-nPgk"
      }
    },
    {
      "cell_type": "code",
      "source": [
        "income = income.drop(columns = ['capital_gain', 'capital-loss', 'hours_per_week', 'relationship']) \n",
        "income.info()"
      ],
      "metadata": {
        "id": "bixyGVQ_krb9",
        "colab": {
          "base_uri": "https://localhost:8080/"
        },
        "outputId": "6aa2579d-19b1-463f-bf4d-8ee814ff05cc"
      },
      "execution_count": null,
      "outputs": [
        {
          "output_type": "stream",
          "name": "stdout",
          "text": [
            "<class 'pandas.core.frame.DataFrame'>\n",
            "RangeIndex: 32560 entries, 0 to 32559\n",
            "Data columns (total 10 columns):\n",
            " #   Column          Non-Null Count  Dtype \n",
            "---  ------          --------------  ----- \n",
            " 0   workclass       32560 non-null  object\n",
            " 1   final_weight    32560 non-null  int64 \n",
            " 2   education       32560 non-null  object\n",
            " 3   marital_status  32560 non-null  object\n",
            " 4   occupation      32560 non-null  object\n",
            " 5   race            32560 non-null  object\n",
            " 6   sex             32560 non-null  object\n",
            " 7   native_country  32560 non-null  object\n",
            " 8   salary          32560 non-null  object\n",
            " 9   age_bin         32560 non-null  object\n",
            "dtypes: int64(1), object(9)\n",
            "memory usage: 2.5+ MB\n"
          ]
        }
      ]
    },
    {
      "cell_type": "code",
      "source": [
        "income = pd.get_dummies(income, columns=['workclass', 'education','marital_status', 'occupation', 'race', 'sex', 'native_country', 'age_bin' ], prefix='', prefix_sep='')"
      ],
      "metadata": {
        "id": "jw3-aQN7jjlE"
      },
      "execution_count": null,
      "outputs": []
    },
    {
      "cell_type": "code",
      "source": [
        "y = income['salary']\n",
        "X = income.drop(columns = ['salary']) \n",
        "X_columns = X\n",
        "X_test, X_train, y_test, y_train = train_test_split(X, y, test_size = 0.30, random_state = 41)\n",
        "X.head()"
      ],
      "metadata": {
        "colab": {
          "base_uri": "https://localhost:8080/",
          "height": 352
        },
        "id": "9mYKtYQ0hr7w",
        "outputId": "05e3f268-3539-4d4e-f3ca-a0deb25d2256"
      },
      "execution_count": null,
      "outputs": [
        {
          "output_type": "execute_result",
          "data": {
            "text/plain": [
              "   final_weight   ?   Federal-gov   Local-gov   Never-worked   Private  \\\n",
              "0         83311   0             0           0              0         0   \n",
              "1        215646   0             0           0              0         1   \n",
              "2        234721   0             0           0              0         1   \n",
              "3        338409   0             0           0              0         1   \n",
              "4        284582   0             0           0              0         1   \n",
              "\n",
              "    Self-emp-inc   Self-emp-not-inc   State-gov   Without-pay  ...   Thailand  \\\n",
              "0              0                  1           0             0  ...          0   \n",
              "1              0                  0           0             0  ...          0   \n",
              "2              0                  0           0             0  ...          0   \n",
              "3              0                  0           0             0  ...          0   \n",
              "4              0                  0           0             0  ...          0   \n",
              "\n",
              "    Trinadad&Tobago   United-States   Vietnam   Yugoslavia  early_career  \\\n",
              "0                 0               1         0            0             0   \n",
              "1                 0               1         0            0             0   \n",
              "2                 0               1         0            0             0   \n",
              "3                 0               0         0            0             1   \n",
              "4                 0               1         0            0             0   \n",
              "\n",
              "   entry_level  late_career  mid_career  retirement  \n",
              "0            0            0           1           0  \n",
              "1            0            0           1           0  \n",
              "2            0            1           0           0  \n",
              "3            0            0           0           0  \n",
              "4            0            0           1           0  \n",
              "\n",
              "[5 rows x 97 columns]"
            ],
            "text/html": [
              "\n",
              "  <div id=\"df-cbb6ebd6-b1cf-43da-8923-e5f6ce5e496c\">\n",
              "    <div class=\"colab-df-container\">\n",
              "      <div>\n",
              "<style scoped>\n",
              "    .dataframe tbody tr th:only-of-type {\n",
              "        vertical-align: middle;\n",
              "    }\n",
              "\n",
              "    .dataframe tbody tr th {\n",
              "        vertical-align: top;\n",
              "    }\n",
              "\n",
              "    .dataframe thead th {\n",
              "        text-align: right;\n",
              "    }\n",
              "</style>\n",
              "<table border=\"1\" class=\"dataframe\">\n",
              "  <thead>\n",
              "    <tr style=\"text-align: right;\">\n",
              "      <th></th>\n",
              "      <th>final_weight</th>\n",
              "      <th>?</th>\n",
              "      <th>Federal-gov</th>\n",
              "      <th>Local-gov</th>\n",
              "      <th>Never-worked</th>\n",
              "      <th>Private</th>\n",
              "      <th>Self-emp-inc</th>\n",
              "      <th>Self-emp-not-inc</th>\n",
              "      <th>State-gov</th>\n",
              "      <th>Without-pay</th>\n",
              "      <th>...</th>\n",
              "      <th>Thailand</th>\n",
              "      <th>Trinadad&amp;Tobago</th>\n",
              "      <th>United-States</th>\n",
              "      <th>Vietnam</th>\n",
              "      <th>Yugoslavia</th>\n",
              "      <th>early_career</th>\n",
              "      <th>entry_level</th>\n",
              "      <th>late_career</th>\n",
              "      <th>mid_career</th>\n",
              "      <th>retirement</th>\n",
              "    </tr>\n",
              "  </thead>\n",
              "  <tbody>\n",
              "    <tr>\n",
              "      <th>0</th>\n",
              "      <td>83311</td>\n",
              "      <td>0</td>\n",
              "      <td>0</td>\n",
              "      <td>0</td>\n",
              "      <td>0</td>\n",
              "      <td>0</td>\n",
              "      <td>0</td>\n",
              "      <td>1</td>\n",
              "      <td>0</td>\n",
              "      <td>0</td>\n",
              "      <td>...</td>\n",
              "      <td>0</td>\n",
              "      <td>0</td>\n",
              "      <td>1</td>\n",
              "      <td>0</td>\n",
              "      <td>0</td>\n",
              "      <td>0</td>\n",
              "      <td>0</td>\n",
              "      <td>0</td>\n",
              "      <td>1</td>\n",
              "      <td>0</td>\n",
              "    </tr>\n",
              "    <tr>\n",
              "      <th>1</th>\n",
              "      <td>215646</td>\n",
              "      <td>0</td>\n",
              "      <td>0</td>\n",
              "      <td>0</td>\n",
              "      <td>0</td>\n",
              "      <td>1</td>\n",
              "      <td>0</td>\n",
              "      <td>0</td>\n",
              "      <td>0</td>\n",
              "      <td>0</td>\n",
              "      <td>...</td>\n",
              "      <td>0</td>\n",
              "      <td>0</td>\n",
              "      <td>1</td>\n",
              "      <td>0</td>\n",
              "      <td>0</td>\n",
              "      <td>0</td>\n",
              "      <td>0</td>\n",
              "      <td>0</td>\n",
              "      <td>1</td>\n",
              "      <td>0</td>\n",
              "    </tr>\n",
              "    <tr>\n",
              "      <th>2</th>\n",
              "      <td>234721</td>\n",
              "      <td>0</td>\n",
              "      <td>0</td>\n",
              "      <td>0</td>\n",
              "      <td>0</td>\n",
              "      <td>1</td>\n",
              "      <td>0</td>\n",
              "      <td>0</td>\n",
              "      <td>0</td>\n",
              "      <td>0</td>\n",
              "      <td>...</td>\n",
              "      <td>0</td>\n",
              "      <td>0</td>\n",
              "      <td>1</td>\n",
              "      <td>0</td>\n",
              "      <td>0</td>\n",
              "      <td>0</td>\n",
              "      <td>0</td>\n",
              "      <td>1</td>\n",
              "      <td>0</td>\n",
              "      <td>0</td>\n",
              "    </tr>\n",
              "    <tr>\n",
              "      <th>3</th>\n",
              "      <td>338409</td>\n",
              "      <td>0</td>\n",
              "      <td>0</td>\n",
              "      <td>0</td>\n",
              "      <td>0</td>\n",
              "      <td>1</td>\n",
              "      <td>0</td>\n",
              "      <td>0</td>\n",
              "      <td>0</td>\n",
              "      <td>0</td>\n",
              "      <td>...</td>\n",
              "      <td>0</td>\n",
              "      <td>0</td>\n",
              "      <td>0</td>\n",
              "      <td>0</td>\n",
              "      <td>0</td>\n",
              "      <td>1</td>\n",
              "      <td>0</td>\n",
              "      <td>0</td>\n",
              "      <td>0</td>\n",
              "      <td>0</td>\n",
              "    </tr>\n",
              "    <tr>\n",
              "      <th>4</th>\n",
              "      <td>284582</td>\n",
              "      <td>0</td>\n",
              "      <td>0</td>\n",
              "      <td>0</td>\n",
              "      <td>0</td>\n",
              "      <td>1</td>\n",
              "      <td>0</td>\n",
              "      <td>0</td>\n",
              "      <td>0</td>\n",
              "      <td>0</td>\n",
              "      <td>...</td>\n",
              "      <td>0</td>\n",
              "      <td>0</td>\n",
              "      <td>1</td>\n",
              "      <td>0</td>\n",
              "      <td>0</td>\n",
              "      <td>0</td>\n",
              "      <td>0</td>\n",
              "      <td>0</td>\n",
              "      <td>1</td>\n",
              "      <td>0</td>\n",
              "    </tr>\n",
              "  </tbody>\n",
              "</table>\n",
              "<p>5 rows × 97 columns</p>\n",
              "</div>\n",
              "      <button class=\"colab-df-convert\" onclick=\"convertToInteractive('df-cbb6ebd6-b1cf-43da-8923-e5f6ce5e496c')\"\n",
              "              title=\"Convert this dataframe to an interactive table.\"\n",
              "              style=\"display:none;\">\n",
              "        \n",
              "  <svg xmlns=\"http://www.w3.org/2000/svg\" height=\"24px\"viewBox=\"0 0 24 24\"\n",
              "       width=\"24px\">\n",
              "    <path d=\"M0 0h24v24H0V0z\" fill=\"none\"/>\n",
              "    <path d=\"M18.56 5.44l.94 2.06.94-2.06 2.06-.94-2.06-.94-.94-2.06-.94 2.06-2.06.94zm-11 1L8.5 8.5l.94-2.06 2.06-.94-2.06-.94L8.5 2.5l-.94 2.06-2.06.94zm10 10l.94 2.06.94-2.06 2.06-.94-2.06-.94-.94-2.06-.94 2.06-2.06.94z\"/><path d=\"M17.41 7.96l-1.37-1.37c-.4-.4-.92-.59-1.43-.59-.52 0-1.04.2-1.43.59L10.3 9.45l-7.72 7.72c-.78.78-.78 2.05 0 2.83L4 21.41c.39.39.9.59 1.41.59.51 0 1.02-.2 1.41-.59l7.78-7.78 2.81-2.81c.8-.78.8-2.07 0-2.86zM5.41 20L4 18.59l7.72-7.72 1.47 1.35L5.41 20z\"/>\n",
              "  </svg>\n",
              "      </button>\n",
              "      \n",
              "  <style>\n",
              "    .colab-df-container {\n",
              "      display:flex;\n",
              "      flex-wrap:wrap;\n",
              "      gap: 12px;\n",
              "    }\n",
              "\n",
              "    .colab-df-convert {\n",
              "      background-color: #E8F0FE;\n",
              "      border: none;\n",
              "      border-radius: 50%;\n",
              "      cursor: pointer;\n",
              "      display: none;\n",
              "      fill: #1967D2;\n",
              "      height: 32px;\n",
              "      padding: 0 0 0 0;\n",
              "      width: 32px;\n",
              "    }\n",
              "\n",
              "    .colab-df-convert:hover {\n",
              "      background-color: #E2EBFA;\n",
              "      box-shadow: 0px 1px 2px rgba(60, 64, 67, 0.3), 0px 1px 3px 1px rgba(60, 64, 67, 0.15);\n",
              "      fill: #174EA6;\n",
              "    }\n",
              "\n",
              "    [theme=dark] .colab-df-convert {\n",
              "      background-color: #3B4455;\n",
              "      fill: #D2E3FC;\n",
              "    }\n",
              "\n",
              "    [theme=dark] .colab-df-convert:hover {\n",
              "      background-color: #434B5C;\n",
              "      box-shadow: 0px 1px 3px 1px rgba(0, 0, 0, 0.15);\n",
              "      filter: drop-shadow(0px 1px 2px rgba(0, 0, 0, 0.3));\n",
              "      fill: #FFFFFF;\n",
              "    }\n",
              "  </style>\n",
              "\n",
              "      <script>\n",
              "        const buttonEl =\n",
              "          document.querySelector('#df-cbb6ebd6-b1cf-43da-8923-e5f6ce5e496c button.colab-df-convert');\n",
              "        buttonEl.style.display =\n",
              "          google.colab.kernel.accessAllowed ? 'block' : 'none';\n",
              "\n",
              "        async function convertToInteractive(key) {\n",
              "          const element = document.querySelector('#df-cbb6ebd6-b1cf-43da-8923-e5f6ce5e496c');\n",
              "          const dataTable =\n",
              "            await google.colab.kernel.invokeFunction('convertToInteractive',\n",
              "                                                     [key], {});\n",
              "          if (!dataTable) return;\n",
              "\n",
              "          const docLinkHtml = 'Like what you see? Visit the ' +\n",
              "            '<a target=\"_blank\" href=https://colab.research.google.com/notebooks/data_table.ipynb>data table notebook</a>'\n",
              "            + ' to learn more about interactive tables.';\n",
              "          element.innerHTML = '';\n",
              "          dataTable['output_type'] = 'display_data';\n",
              "          await google.colab.output.renderOutput(dataTable, element);\n",
              "          const docLink = document.createElement('div');\n",
              "          docLink.innerHTML = docLinkHtml;\n",
              "          element.appendChild(docLink);\n",
              "        }\n",
              "      </script>\n",
              "    </div>\n",
              "  </div>\n",
              "  "
            ]
          },
          "metadata": {},
          "execution_count": 22
        }
      ]
    },
    {
      "cell_type": "code",
      "source": [
        "y.head()"
      ],
      "metadata": {
        "colab": {
          "base_uri": "https://localhost:8080/"
        },
        "id": "qgKh2qlNlwYT",
        "outputId": "eb991324-5dc0-4581-ff7b-25808913bcf5"
      },
      "execution_count": null,
      "outputs": [
        {
          "output_type": "execute_result",
          "data": {
            "text/plain": [
              "0     <=50K\n",
              "1     <=50K\n",
              "2     <=50K\n",
              "3     <=50K\n",
              "4     <=50K\n",
              "Name: salary, dtype: object"
            ]
          },
          "metadata": {},
          "execution_count": 23
        }
      ]
    },
    {
      "cell_type": "code",
      "source": [
        " scaler = MinMaxScaler()\n",
        "X_scaler = scaler.fit(X_train)\n",
        "X_train = X_scaler.transform(X_train)\n",
        "X_test = X_scaler.transform(X_test)"
      ],
      "metadata": {
        "id": "9KcLS5Aol92n"
      },
      "execution_count": null,
      "outputs": []
    },
    {
      "cell_type": "code",
      "source": [
        "X.info()"
      ],
      "metadata": {
        "colab": {
          "base_uri": "https://localhost:8080/"
        },
        "id": "0Z3SecBRoGVc",
        "outputId": "ebd36145-4d8f-4c26-cd94-f1cff73e2953"
      },
      "execution_count": null,
      "outputs": [
        {
          "output_type": "stream",
          "name": "stdout",
          "text": [
            "<class 'pandas.core.frame.DataFrame'>\n",
            "RangeIndex: 32560 entries, 0 to 32559\n",
            "Data columns (total 97 columns):\n",
            " #   Column                       Non-Null Count  Dtype\n",
            "---  ------                       --------------  -----\n",
            " 0   final_weight                 32560 non-null  int64\n",
            " 1    ?                           32560 non-null  uint8\n",
            " 2    Federal-gov                 32560 non-null  uint8\n",
            " 3    Local-gov                   32560 non-null  uint8\n",
            " 4    Never-worked                32560 non-null  uint8\n",
            " 5    Private                     32560 non-null  uint8\n",
            " 6    Self-emp-inc                32560 non-null  uint8\n",
            " 7    Self-emp-not-inc            32560 non-null  uint8\n",
            " 8    State-gov                   32560 non-null  uint8\n",
            " 9    Without-pay                 32560 non-null  uint8\n",
            " 10   Assoc-acdm                  32560 non-null  uint8\n",
            " 11   Assoc-voc                   32560 non-null  uint8\n",
            " 12   Bachelors                   32560 non-null  uint8\n",
            " 13   Doctorate                   32560 non-null  uint8\n",
            " 14   HS-grad                     32560 non-null  uint8\n",
            " 15   Masters                     32560 non-null  uint8\n",
            " 16   Prof-school                 32560 non-null  uint8\n",
            " 17   Some-college                32560 non-null  uint8\n",
            " 18  elementary                   32560 non-null  uint8\n",
            " 19  high_school                  32560 non-null  uint8\n",
            " 20  middle_school                32560 non-null  uint8\n",
            " 21   Divorced                    32560 non-null  uint8\n",
            " 22   Married-AF-spouse           32560 non-null  uint8\n",
            " 23   Married-civ-spouse          32560 non-null  uint8\n",
            " 24   Married-spouse-absent       32560 non-null  uint8\n",
            " 25   Never-married               32560 non-null  uint8\n",
            " 26   Separated                   32560 non-null  uint8\n",
            " 27   Widowed                     32560 non-null  uint8\n",
            " 28   ?                           32560 non-null  uint8\n",
            " 29   Adm-clerical                32560 non-null  uint8\n",
            " 30   Armed-Forces                32560 non-null  uint8\n",
            " 31   Craft-repair                32560 non-null  uint8\n",
            " 32   Exec-managerial             32560 non-null  uint8\n",
            " 33   Farming-fishing             32560 non-null  uint8\n",
            " 34   Handlers-cleaners           32560 non-null  uint8\n",
            " 35   Machine-op-inspct           32560 non-null  uint8\n",
            " 36   Other-service               32560 non-null  uint8\n",
            " 37   Priv-house-serv             32560 non-null  uint8\n",
            " 38   Prof-specialty              32560 non-null  uint8\n",
            " 39   Protective-serv             32560 non-null  uint8\n",
            " 40   Sales                       32560 non-null  uint8\n",
            " 41   Tech-support                32560 non-null  uint8\n",
            " 42   Transport-moving            32560 non-null  uint8\n",
            " 43   Amer-Indian-Eskimo          32560 non-null  uint8\n",
            " 44   Asian-Pac-Islander          32560 non-null  uint8\n",
            " 45   Black                       32560 non-null  uint8\n",
            " 46   Other                       32560 non-null  uint8\n",
            " 47   White                       32560 non-null  uint8\n",
            " 48   Female                      32560 non-null  uint8\n",
            " 49   Male                        32560 non-null  uint8\n",
            " 50   ?                           32560 non-null  uint8\n",
            " 51   Cambodia                    32560 non-null  uint8\n",
            " 52   Canada                      32560 non-null  uint8\n",
            " 53   China                       32560 non-null  uint8\n",
            " 54   Columbia                    32560 non-null  uint8\n",
            " 55   Cuba                        32560 non-null  uint8\n",
            " 56   Dominican-Republic          32560 non-null  uint8\n",
            " 57   Ecuador                     32560 non-null  uint8\n",
            " 58   El-Salvador                 32560 non-null  uint8\n",
            " 59   England                     32560 non-null  uint8\n",
            " 60   France                      32560 non-null  uint8\n",
            " 61   Germany                     32560 non-null  uint8\n",
            " 62   Greece                      32560 non-null  uint8\n",
            " 63   Guatemala                   32560 non-null  uint8\n",
            " 64   Haiti                       32560 non-null  uint8\n",
            " 65   Holand-Netherlands          32560 non-null  uint8\n",
            " 66   Honduras                    32560 non-null  uint8\n",
            " 67   Hong                        32560 non-null  uint8\n",
            " 68   Hungary                     32560 non-null  uint8\n",
            " 69   India                       32560 non-null  uint8\n",
            " 70   Iran                        32560 non-null  uint8\n",
            " 71   Ireland                     32560 non-null  uint8\n",
            " 72   Italy                       32560 non-null  uint8\n",
            " 73   Jamaica                     32560 non-null  uint8\n",
            " 74   Japan                       32560 non-null  uint8\n",
            " 75   Laos                        32560 non-null  uint8\n",
            " 76   Mexico                      32560 non-null  uint8\n",
            " 77   Nicaragua                   32560 non-null  uint8\n",
            " 78   Outlying-US(Guam-USVI-etc)  32560 non-null  uint8\n",
            " 79   Peru                        32560 non-null  uint8\n",
            " 80   Philippines                 32560 non-null  uint8\n",
            " 81   Poland                      32560 non-null  uint8\n",
            " 82   Portugal                    32560 non-null  uint8\n",
            " 83   Puerto-Rico                 32560 non-null  uint8\n",
            " 84   Scotland                    32560 non-null  uint8\n",
            " 85   South                       32560 non-null  uint8\n",
            " 86   Taiwan                      32560 non-null  uint8\n",
            " 87   Thailand                    32560 non-null  uint8\n",
            " 88   Trinadad&Tobago             32560 non-null  uint8\n",
            " 89   United-States               32560 non-null  uint8\n",
            " 90   Vietnam                     32560 non-null  uint8\n",
            " 91   Yugoslavia                  32560 non-null  uint8\n",
            " 92  early_career                 32560 non-null  uint8\n",
            " 93  entry_level                  32560 non-null  uint8\n",
            " 94  late_career                  32560 non-null  uint8\n",
            " 95  mid_career                   32560 non-null  uint8\n",
            " 96  retirement                   32560 non-null  uint8\n",
            "dtypes: int64(1), uint8(96)\n",
            "memory usage: 3.2 MB\n"
          ]
        }
      ]
    },
    {
      "cell_type": "markdown",
      "source": [
        "## Build Model"
      ],
      "metadata": {
        "id": "Bo-281panbYt"
      }
    },
    {
      "cell_type": "markdown",
      "source": [
        "## KNN Nearest Neighbors"
      ],
      "metadata": {
        "id": "xHQTGynfuiDj"
      }
    },
    {
      "cell_type": "code",
      "source": [
        "KNNclf = KNeighborsClassifier(n_neighbors=3)\n",
        "KNNclf.fit(X_train, y_train)\n",
        "KNN_predictions = KNNclf.predict(X_test)\n",
        "accuracy_score(y_test, KNN_predictions)"
      ],
      "metadata": {
        "colab": {
          "base_uri": "https://localhost:8080/"
        },
        "id": "7bbYruX7neT8",
        "outputId": "625e2363-b465-425c-d909-70e31086bc7a"
      },
      "execution_count": null,
      "outputs": [
        {
          "output_type": "execute_result",
          "data": {
            "text/plain": [
              "0.7986574236574236"
            ]
          },
          "metadata": {},
          "execution_count": 26
        }
      ]
    },
    {
      "cell_type": "code",
      "source": [
        "print(classification_report(y_test, KNN_predictions))"
      ],
      "metadata": {
        "colab": {
          "base_uri": "https://localhost:8080/"
        },
        "id": "Y1SxjEYQWHXS",
        "outputId": "6d1f76f5-aad4-41b5-f21b-3e34393f225d"
      },
      "execution_count": null,
      "outputs": [
        {
          "output_type": "stream",
          "name": "stdout",
          "text": [
            "              precision    recall  f1-score   support\n",
            "\n",
            "       <=50K       0.86      0.88      0.87     17293\n",
            "        >50K       0.59      0.56      0.57      5499\n",
            "\n",
            "    accuracy                           0.80     22792\n",
            "   macro avg       0.72      0.72      0.72     22792\n",
            "weighted avg       0.80      0.80      0.80     22792\n",
            "\n"
          ]
        }
      ]
    },
    {
      "cell_type": "code",
      "source": [
        "KNNclf = KNeighborsClassifier(n_neighbors=4)\n",
        "KNNclf.fit(X_train, y_train)\n",
        "KNN_predictions_4 = KNNclf.predict(X_test)\n",
        "accuracy_score(y_test, KNN_predictions_4)"
      ],
      "metadata": {
        "colab": {
          "base_uri": "https://localhost:8080/"
        },
        "id": "VMolemwDsllu",
        "outputId": "44afe519-da95-4974-cd65-d71be87871d7"
      },
      "execution_count": null,
      "outputs": [
        {
          "output_type": "execute_result",
          "data": {
            "text/plain": [
              "0.8085731835731835"
            ]
          },
          "metadata": {},
          "execution_count": 28
        }
      ]
    },
    {
      "cell_type": "code",
      "source": [
        "print(classification_report(y_test, KNN_predictions_4))"
      ],
      "metadata": {
        "colab": {
          "base_uri": "https://localhost:8080/"
        },
        "id": "uqLl-akkWPzT",
        "outputId": "494831ea-dd6a-4230-a0bf-ca21fcd70b55"
      },
      "execution_count": null,
      "outputs": [
        {
          "output_type": "stream",
          "name": "stdout",
          "text": [
            "              precision    recall  f1-score   support\n",
            "\n",
            "       <=50K       0.84      0.93      0.88     17293\n",
            "        >50K       0.65      0.44      0.53      5499\n",
            "\n",
            "    accuracy                           0.81     22792\n",
            "   macro avg       0.75      0.68      0.70     22792\n",
            "weighted avg       0.79      0.81      0.79     22792\n",
            "\n"
          ]
        }
      ]
    },
    {
      "cell_type": "code",
      "source": [
        "KNNclf = KNeighborsClassifier(n_neighbors=5)\n",
        "KNNclf.fit(X_train, y_train)\n",
        "KNN_predictions_5 = KNNclf.predict(X_test)\n",
        "accuracy_score(y_test, KNN_predictions_5)"
      ],
      "metadata": {
        "colab": {
          "base_uri": "https://localhost:8080/"
        },
        "id": "ucyeMb98ssUT",
        "outputId": "05c98606-4f5c-4aa0-852f-a9967430f864"
      },
      "execution_count": null,
      "outputs": [
        {
          "output_type": "execute_result",
          "data": {
            "text/plain": [
              "0.8088803088803089"
            ]
          },
          "metadata": {},
          "execution_count": 30
        }
      ]
    },
    {
      "cell_type": "code",
      "source": [
        "print(classification_report(y_test, KNN_predictions_5))"
      ],
      "metadata": {
        "colab": {
          "base_uri": "https://localhost:8080/"
        },
        "id": "vcY3U8CKWbaU",
        "outputId": "5f5e77a7-2373-452d-8482-cef82c1d2ab5"
      },
      "execution_count": null,
      "outputs": [
        {
          "output_type": "stream",
          "name": "stdout",
          "text": [
            "              precision    recall  f1-score   support\n",
            "\n",
            "       <=50K       0.86      0.89      0.88     17293\n",
            "        >50K       0.62      0.55      0.58      5499\n",
            "\n",
            "    accuracy                           0.81     22792\n",
            "   macro avg       0.74      0.72      0.73     22792\n",
            "weighted avg       0.80      0.81      0.81     22792\n",
            "\n"
          ]
        }
      ]
    },
    {
      "cell_type": "markdown",
      "source": [
        "## Undersampling"
      ],
      "metadata": {
        "id": "wvrC-dd5ulh7"
      }
    },
    {
      "cell_type": "code",
      "source": [
        "rus = RandomUnderSampler(random_state = 1)\n",
        "X, y = rus.fit_resample(X_train, y_train)"
      ],
      "metadata": {
        "id": "aXdRY-S0unrc"
      },
      "execution_count": null,
      "outputs": []
    },
    {
      "cell_type": "code",
      "source": [
        "KNNclf = KNeighborsClassifier(n_neighbors = 3)\n",
        "KNNclf.fit(X, y)\n",
        "KNN_pred= KNNclf.predict(X_test)\n",
        "accuracy_score(y_test, KNN_pred)"
      ],
      "metadata": {
        "colab": {
          "base_uri": "https://localhost:8080/"
        },
        "id": "LbsPWPeVs-qr",
        "outputId": "d48a6d7f-0d6a-410a-ccb7-69ab1b5de09d"
      },
      "execution_count": null,
      "outputs": [
        {
          "output_type": "execute_result",
          "data": {
            "text/plain": [
              "0.7365742365742366"
            ]
          },
          "metadata": {},
          "execution_count": 33
        }
      ]
    },
    {
      "cell_type": "code",
      "source": [
        "print(classification_report(y_test, KNN_pred))"
      ],
      "metadata": {
        "colab": {
          "base_uri": "https://localhost:8080/"
        },
        "id": "dKkrygspwvF3",
        "outputId": "01e0e3da-4677-41f5-fb1f-9c3563ae87dd"
      },
      "execution_count": null,
      "outputs": [
        {
          "output_type": "stream",
          "name": "stdout",
          "text": [
            "              precision    recall  f1-score   support\n",
            "\n",
            "       <=50K       0.92      0.72      0.81     17293\n",
            "        >50K       0.47      0.80      0.59      5499\n",
            "\n",
            "    accuracy                           0.74     22792\n",
            "   macro avg       0.69      0.76      0.70     22792\n",
            "weighted avg       0.81      0.74      0.75     22792\n",
            "\n"
          ]
        }
      ]
    },
    {
      "cell_type": "code",
      "source": [
        "KNNclf = KNeighborsClassifier(n_neighbors = 4)\n",
        "KNNclf.fit(X, y)\n",
        "KNN_pred= KNNclf.predict(X_test)\n",
        "accuracy_score(y_test, KNN_pred)"
      ],
      "metadata": {
        "colab": {
          "base_uri": "https://localhost:8080/"
        },
        "id": "TBt4Zq7euDOJ",
        "outputId": "676d205b-3f1b-4ced-c4e5-ae0cf6224964"
      },
      "execution_count": null,
      "outputs": [
        {
          "output_type": "execute_result",
          "data": {
            "text/plain": [
              "0.7766321516321516"
            ]
          },
          "metadata": {},
          "execution_count": 35
        }
      ]
    },
    {
      "cell_type": "code",
      "source": [
        "print(classification_report(y_test, KNN_pred))"
      ],
      "metadata": {
        "colab": {
          "base_uri": "https://localhost:8080/"
        },
        "id": "JrtI0YhIw3sD",
        "outputId": "c4f91031-0fcf-4e03-98fe-c1fcd30e6e10"
      },
      "execution_count": null,
      "outputs": [
        {
          "output_type": "stream",
          "name": "stdout",
          "text": [
            "              precision    recall  f1-score   support\n",
            "\n",
            "       <=50K       0.90      0.80      0.84     17293\n",
            "        >50K       0.53      0.71      0.60      5499\n",
            "\n",
            "    accuracy                           0.78     22792\n",
            "   macro avg       0.71      0.75      0.72     22792\n",
            "weighted avg       0.81      0.78      0.79     22792\n",
            "\n"
          ]
        }
      ]
    },
    {
      "cell_type": "code",
      "source": [
        "KNNclf = KNeighborsClassifier(n_neighbors = 5)\n",
        "KNNclf.fit(X, y)\n",
        "KNN_pred= KNNclf.predict(X_test)\n",
        "accuracy_score(y_test, KNN_pred)"
      ],
      "metadata": {
        "colab": {
          "base_uri": "https://localhost:8080/"
        },
        "id": "ropX5u6AuIeb",
        "outputId": "13863a36-2380-4e4f-8bd4-5556a0ccf995"
      },
      "execution_count": null,
      "outputs": [
        {
          "output_type": "execute_result",
          "data": {
            "text/plain": [
              "0.7445594945594946"
            ]
          },
          "metadata": {},
          "execution_count": 37
        }
      ]
    },
    {
      "cell_type": "code",
      "source": [
        "conf_matrix = confusion_matrix(y_true=y_test, y_pred=KNN_predictions)\n",
        "fig, ax = plt.subplots(figsize=(7.5, 7.5))\n",
        "ax.matshow(conf_matrix, cmap=plt.cm.Blues, alpha=0.3)\n",
        "for i in range(conf_matrix.shape[0]):\n",
        "  for j in range(conf_matrix.shape[1]):\n",
        "    ax.text(x=j, y=i,s=conf_matrix[i, j], va='center', ha='center', size='xx-large')\n",
        "plt.xlabel('Predictions', fontsize=18)\n",
        "plt.ylabel('Actuals', fontsize=18)\n",
        "plt.title('Confusion Matrix Undersampled KNN neighbors = 5', fontsize=18)\n",
        "plt.show()"
      ],
      "metadata": {
        "colab": {
          "base_uri": "https://localhost:8080/",
          "height": 501
        },
        "id": "w2vF0ILcyd7S",
        "outputId": "8683750b-8c81-4187-d164-67de07531eba"
      },
      "execution_count": null,
      "outputs": [
        {
          "output_type": "display_data",
          "data": {
            "text/plain": [
              "<Figure size 540x540 with 1 Axes>"
            ],
            "image/png": "[encoded data removed]"
          },
          "metadata": {
            "needs_background": "light"
          }
        }
      ]
    },
    {
      "cell_type": "code",
      "source": [
        "print(classification_report(y_test, KNN_pred))"
      ],
      "metadata": {
        "colab": {
          "base_uri": "https://localhost:8080/"
        },
        "id": "Qrmshf7Lw7_H",
        "outputId": "6b4d5f9f-9ec3-4b29-9b7e-64893889c9d7"
      },
      "execution_count": null,
      "outputs": [
        {
          "output_type": "stream",
          "name": "stdout",
          "text": [
            "              precision    recall  f1-score   support\n",
            "\n",
            "       <=50K       0.92      0.72      0.81     17293\n",
            "        >50K       0.48      0.82      0.61      5499\n",
            "\n",
            "    accuracy                           0.74     22792\n",
            "   macro avg       0.70      0.77      0.71     22792\n",
            "weighted avg       0.82      0.74      0.76     22792\n",
            "\n"
          ]
        }
      ]
    },
    {
      "cell_type": "markdown",
      "source": [
        "## Oversampling"
      ],
      "metadata": {
        "id": "a-if1Ij9vNOs"
      }
    },
    {
      "cell_type": "code",
      "source": [
        "random_oversampler = RandomOverSampler(random_state = 1)\n",
        "X, y = random_oversampler.fit_resample(X_train, y_train)"
      ],
      "metadata": {
        "id": "bnRDqEzxueAR"
      },
      "execution_count": null,
      "outputs": []
    },
    {
      "cell_type": "code",
      "source": [
        "KNNclf = KNeighborsClassifier(n_neighbors = 3)\n",
        "KNNclf.fit(X, y)\n",
        "KNN_pred= KNNclf.predict(X_test)\n",
        "accuracy_score(y_test, KNN_pred)"
      ],
      "metadata": {
        "colab": {
          "base_uri": "https://localhost:8080/"
        },
        "id": "VRzOMN2WvMg5",
        "outputId": "9be78b9d-40ce-4d92-beea-900e58863e74"
      },
      "execution_count": null,
      "outputs": [
        {
          "output_type": "execute_result",
          "data": {
            "text/plain": [
              "0.7486837486837487"
            ]
          },
          "metadata": {},
          "execution_count": 41
        }
      ]
    },
    {
      "cell_type": "code",
      "source": [
        "print(classification_report(y_test, KNN_pred))"
      ],
      "metadata": {
        "colab": {
          "base_uri": "https://localhost:8080/"
        },
        "id": "rDgjEq46w-CY",
        "outputId": "4388a7e1-4ef2-4dc8-caa2-32d5bdc64109"
      },
      "execution_count": null,
      "outputs": [
        {
          "output_type": "stream",
          "name": "stdout",
          "text": [
            "              precision    recall  f1-score   support\n",
            "\n",
            "       <=50K       0.89      0.76      0.82     17293\n",
            "        >50K       0.49      0.72      0.58      5499\n",
            "\n",
            "    accuracy                           0.75     22792\n",
            "   macro avg       0.69      0.74      0.70     22792\n",
            "weighted avg       0.80      0.75      0.76     22792\n",
            "\n"
          ]
        }
      ]
    },
    {
      "cell_type": "code",
      "source": [
        "KNNclf = KNeighborsClassifier(n_neighbors = 4)\n",
        "KNNclf.fit(X, y)\n",
        "KNN_pred= KNNclf.predict(X_test)\n",
        "accuracy_score(y_test, KNN_pred)"
      ],
      "metadata": {
        "colab": {
          "base_uri": "https://localhost:8080/"
        },
        "id": "X8GY46ROvxDM",
        "outputId": "a7883036-01e4-473a-ef79-c7cc7433e944"
      },
      "execution_count": null,
      "outputs": [
        {
          "output_type": "execute_result",
          "data": {
            "text/plain": [
              "0.7646103896103896"
            ]
          },
          "metadata": {},
          "execution_count": 43
        }
      ]
    },
    {
      "cell_type": "code",
      "source": [
        "print(classification_report(y_test, KNN_pred))"
      ],
      "metadata": {
        "colab": {
          "base_uri": "https://localhost:8080/"
        },
        "id": "2V_J3F-Gw_df",
        "outputId": "42a8c152-f244-4b24-935c-b6050595181e"
      },
      "execution_count": null,
      "outputs": [
        {
          "output_type": "stream",
          "name": "stdout",
          "text": [
            "              precision    recall  f1-score   support\n",
            "\n",
            "       <=50K       0.89      0.79      0.84     17293\n",
            "        >50K       0.51      0.68      0.58      5499\n",
            "\n",
            "    accuracy                           0.76     22792\n",
            "   macro avg       0.70      0.74      0.71     22792\n",
            "weighted avg       0.80      0.76      0.78     22792\n",
            "\n"
          ]
        }
      ]
    },
    {
      "cell_type": "code",
      "source": [
        "KNNclf = KNeighborsClassifier(n_neighbors = 5)\n",
        "KNNclf.fit(X, y)\n",
        "KNN_pred= KNNclf.predict(X_test)\n",
        "accuracy_score(y_test, KNN_pred)"
      ],
      "metadata": {
        "colab": {
          "base_uri": "https://localhost:8080/"
        },
        "id": "-qf44BElvzzY",
        "outputId": "3e291c78-ab5b-42fe-c764-b110331b5fff"
      },
      "execution_count": null,
      "outputs": [
        {
          "output_type": "execute_result",
          "data": {
            "text/plain": [
              "0.7415321165321165"
            ]
          },
          "metadata": {},
          "execution_count": 45
        }
      ]
    },
    {
      "cell_type": "code",
      "source": [
        "print(classification_report(y_test, KNN_pred))"
      ],
      "metadata": {
        "colab": {
          "base_uri": "https://localhost:8080/"
        },
        "id": "-tKSnY7QxAmd",
        "outputId": "a3a8ff8e-3ad2-4f0d-9ec6-2e80f075756f"
      },
      "execution_count": null,
      "outputs": [
        {
          "output_type": "stream",
          "name": "stdout",
          "text": [
            "              precision    recall  f1-score   support\n",
            "\n",
            "       <=50K       0.91      0.73      0.81     17293\n",
            "        >50K       0.48      0.77      0.59      5499\n",
            "\n",
            "    accuracy                           0.74     22792\n",
            "   macro avg       0.69      0.75      0.70     22792\n",
            "weighted avg       0.80      0.74      0.76     22792\n",
            "\n"
          ]
        }
      ]
    },
    {
      "cell_type": "markdown",
      "source": [
        "## Decision Tree"
      ],
      "metadata": {
        "id": "Qdw4uEW7v9Wp"
      }
    },
    {
      "cell_type": "code",
      "source": [
        "treeclf = DecisionTreeClassifier(max_depth=6, splitter='random')\n",
        "treeclf.fit(X_train, y_train)\n",
        "treetest_predictions = treeclf.predict(X_test)\n",
        "accuracy_score(y_test, treetest_predictions)"
      ],
      "metadata": {
        "colab": {
          "base_uri": "https://localhost:8080/"
        },
        "id": "XyjAo05av_Rh",
        "outputId": "8a8fb4d0-6dc2-4461-8d27-34c0cf41c3ae"
      },
      "execution_count": null,
      "outputs": [
        {
          "output_type": "execute_result",
          "data": {
            "text/plain": [
              "0.822964197964198"
            ]
          },
          "metadata": {},
          "execution_count": 47
        }
      ]
    },
    {
      "cell_type": "code",
      "source": [
        "print(classification_report(y_test, treetest_predictions))"
      ],
      "metadata": {
        "colab": {
          "base_uri": "https://localhost:8080/"
        },
        "id": "rOtzjIaFxB3o",
        "outputId": "d34679e8-8b14-4de2-dde3-be1edd4079c0"
      },
      "execution_count": null,
      "outputs": [
        {
          "output_type": "stream",
          "name": "stdout",
          "text": [
            "              precision    recall  f1-score   support\n",
            "\n",
            "       <=50K       0.85      0.94      0.89     17293\n",
            "        >50K       0.70      0.46      0.56      5499\n",
            "\n",
            "    accuracy                           0.82     22792\n",
            "   macro avg       0.77      0.70      0.72     22792\n",
            "weighted avg       0.81      0.82      0.81     22792\n",
            "\n"
          ]
        }
      ]
    },
    {
      "cell_type": "code",
      "source": [
        "conf_matrix = confusion_matrix(y_true=y_test, y_pred=treetest_predictions)\n",
        "fig, ax = plt.subplots(figsize=(7.5, 7.5))\n",
        "ax.matshow(conf_matrix, cmap=plt.cm.Blues, alpha=0.3)\n",
        "for i in range(conf_matrix.shape[0]):\n",
        "  for j in range(conf_matrix.shape[1]):\n",
        "    ax.text(x=j, y=i,s=conf_matrix[i, j], va='center', ha='center', size='xx-large')\n",
        "plt.xlabel('Predictions', fontsize=18)\n",
        "plt.ylabel('Actuals', fontsize=18)\n",
        "plt.title('Confusion Matrix - Decision Tree', fontsize=18)\n",
        "plt.show()"
      ],
      "metadata": {
        "colab": {
          "base_uri": "https://localhost:8080/",
          "height": 501
        },
        "id": "N5qfAH0XymUl",
        "outputId": "a938b8c1-4492-4957-9be6-8141781b3995"
      },
      "execution_count": null,
      "outputs": [
        {
          "output_type": "display_data",
          "data": {
            "text/plain": [
              "<Figure size 540x540 with 1 Axes>"
            ],
            "image/png": "[encoded data removed]"
          },
          "metadata": {
            "needs_background": "light"
          }
        }
      ]
    },
    {
      "cell_type": "code",
      "source": [
        "extratreeclf = ExtraTreeClassifier(max_depth=6, splitter='random')\n",
        "extratreeclf.fit(X_train, y_train)\n",
        "extratreetest_predictions = extratreeclf.predict(X_test)\n",
        "accuracy_score(y_test, extratreetest_predictions)"
      ],
      "metadata": {
        "colab": {
          "base_uri": "https://localhost:8080/"
        },
        "id": "eppJ-8lczXIP",
        "outputId": "bc868039-fd0c-4e57-9de7-63bda6f31829"
      },
      "execution_count": null,
      "outputs": [
        {
          "output_type": "execute_result",
          "data": {
            "text/plain": [
              "0.7548262548262549"
            ]
          },
          "metadata": {},
          "execution_count": 52
        }
      ]
    },
    {
      "cell_type": "code",
      "source": [
        "print(classification_report(y_test, extratreetest_predictions))"
      ],
      "metadata": {
        "colab": {
          "base_uri": "https://localhost:8080/"
        },
        "id": "i7hgtVw6xEN-",
        "outputId": "3a566e97-9276-4804-fb3b-f61f6af92906"
      },
      "execution_count": null,
      "outputs": [
        {
          "output_type": "stream",
          "name": "stdout",
          "text": [
            "              precision    recall  f1-score   support\n",
            "\n",
            "       <=50K       0.79      0.92      0.85     17293\n",
            "        >50K       0.48      0.22      0.31      5499\n",
            "\n",
            "    accuracy                           0.75     22792\n",
            "   macro avg       0.64      0.57      0.58     22792\n",
            "weighted avg       0.72      0.75      0.72     22792\n",
            "\n"
          ]
        }
      ]
    }
  ]
}